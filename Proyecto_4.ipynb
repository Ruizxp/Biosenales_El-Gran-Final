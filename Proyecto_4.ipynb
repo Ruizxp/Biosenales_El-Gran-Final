{
 "cells": [
  {
   "attachments": {},
   "cell_type": "markdown",
   "metadata": {},
   "source": [
    "\n",
    "# 1 El análisis"
   ]
  },
  {
   "cell_type": "code",
   "execution_count": 3,
   "metadata": {},
   "outputs": [],
   "source": [
    "import os\n",
    "import winsound\n",
    "import special_fun as s\n",
    "import pandas as pd\n",
    "import numpy as np\n",
    "import matplotlib.pyplot as plt\n",
    "import librosa\n",
    "import scipy.signal as signal\n",
    "import pywt\n",
    "from scipy.signal import firwin\n",
    "#Para que me avise\n",
    "duration = 1000 \n",
    "freq = 440 "
   ]
  },
  {
   "attachments": {},
   "cell_type": "markdown",
   "metadata": {},
   "source": [
    "## 1.1 Carga obtención de los audios"
   ]
  },
  {
   "cell_type": "code",
   "execution_count": 4,
   "metadata": {},
   "outputs": [],
   "source": [
    "ruta_carpeta = '../Data/audio_and_txt_files'\n",
    "#Si es en colab\n",
    "#ruta_carpeta = \"/content/respiratory_sound_database/Respiratory_Sound_Database/audio_and_txt_files\" \n",
    "lista_archivos = os.listdir(ruta_carpeta)\n",
    "datos=s.sonido_probando123(lista_archivos,ruta_carpeta)"
   ]
  },
  {
   "attachments": {},
   "cell_type": "markdown",
   "metadata": {},
   "source": [
    "## Ejemplo del metodo usado"
   ]
  },
  {
   "cell_type": "code",
   "execution_count": 5,
   "metadata": {},
   "outputs": [],
   "source": [
    "y,sr=librosa.load(list(datos.keys())[20])"
   ]
  },
  {
   "cell_type": "code",
   "execution_count": 7,
   "metadata": {},
   "outputs": [],
   "source": [
    "high=100\n",
    "low=2000\n",
    "nyq=sr/2\n",
    "bandalp=(low-high)*0.1\n",
    "ordenlp=int(5*(nyq/bandalp))\n",
    "if ordenlp%2==0:\n",
    "    ordenlp+=1\n",
    "\n",
    "low_pass=firwin(ordenlp, low/nyq ,window=('kaiser',7.85))\n",
    "\n",
    "bandahp=(high)*0.1\n",
    "ordenhp= int(5*(nyq/bandahp))\n",
    "if ordenhp%2==0:\n",
    "    ordenhp+=1\n",
    "\n",
    "high_pass=firwin(ordenhp, high/nyq ,pass_zero=\"highpass\",window=('kaiser',7.85))"
   ]
  },
  {
   "cell_type": "code",
   "execution_count": null,
   "metadata": {},
   "outputs": [],
   "source": []
  }
 ],
 "metadata": {
  "kernelspec": {
   "display_name": "base",
   "language": "python",
   "name": "python3"
  },
  "language_info": {
   "codemirror_mode": {
    "name": "ipython",
    "version": 3
   },
   "file_extension": ".py",
   "mimetype": "text/x-python",
   "name": "python",
   "nbconvert_exporter": "python",
   "pygments_lexer": "ipython3",
   "version": "3.9.13"
  },
  "orig_nbformat": 4
 },
 "nbformat": 4,
 "nbformat_minor": 2
}
